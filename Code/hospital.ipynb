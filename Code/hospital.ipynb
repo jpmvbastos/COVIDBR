{
 "cells": [
  {
   "cell_type": "code",
   "execution_count": 11,
   "metadata": {},
   "outputs": [],
   "source": [
    "import pandas as pd \n",
    "import numpy as np"
   ]
  },
  {
   "cell_type": "code",
   "execution_count": 3,
   "metadata": {},
   "outputs": [],
   "source": [
    "d19 = pd.read_csv('https://s3.sa-east-1.amazonaws.com/ckan.saude.gov.br/Leitos_SUS/Leitos_2019.csv', sep=',')\n",
    "d20 = pd.read_csv('https://s3.sa-east-1.amazonaws.com/ckan.saude.gov.br/Leitos_SUS/Leitos_2020.csv', sep=',')\n",
    "d21 = pd.read_csv('https://s3.sa-east-1.amazonaws.com/ckan.saude.gov.br/Leitos_SUS/Leitos_2021.csv', sep=',')\n",
    "\n",
    "df = pd.concat([d19, d20, d21])\n"
   ]
  },
  {
   "cell_type": "code",
   "execution_count": 5,
   "metadata": {},
   "outputs": [
    {
     "data": {
      "text/html": [
       "<div>\n",
       "<style scoped>\n",
       "    .dataframe tbody tr th:only-of-type {\n",
       "        vertical-align: middle;\n",
       "    }\n",
       "\n",
       "    .dataframe tbody tr th {\n",
       "        vertical-align: top;\n",
       "    }\n",
       "\n",
       "    .dataframe thead th {\n",
       "        text-align: right;\n",
       "    }\n",
       "</style>\n",
       "<table border=\"1\" class=\"dataframe\">\n",
       "  <thead>\n",
       "    <tr style=\"text-align: right;\">\n",
       "      <th></th>\n",
       "      <th>COMP</th>\n",
       "      <th>REGIAO</th>\n",
       "      <th>UF</th>\n",
       "      <th>MUNICIPIO</th>\n",
       "      <th>MOTIVO DESABILITACAO</th>\n",
       "      <th>CNES</th>\n",
       "      <th>NOME ESTABELECIMENTO</th>\n",
       "      <th>RAZAO SOCIAL</th>\n",
       "      <th>TP_GESTAO</th>\n",
       "      <th>CO_TIPO_UNIDADE</th>\n",
       "      <th>...</th>\n",
       "      <th>UTI ADULTO - EXIST</th>\n",
       "      <th>UTI ADULTO - SUS</th>\n",
       "      <th>UTI PEDIATRICO - EXIST</th>\n",
       "      <th>UTI PEDIATRICO - SUS</th>\n",
       "      <th>UTI NEONATAL - EXIST</th>\n",
       "      <th>UTI NEONATAL - SUS</th>\n",
       "      <th>UTI QUEIMADO - EXIST</th>\n",
       "      <th>UTI QUEIMADO - SUS</th>\n",
       "      <th>UTI CORONARIANA - EXIST</th>\n",
       "      <th>UTI CORONARIANA - SUS</th>\n",
       "    </tr>\n",
       "  </thead>\n",
       "  <tbody>\n",
       "    <tr>\n",
       "      <th>0</th>\n",
       "      <td>201901</td>\n",
       "      <td>NORDESTE</td>\n",
       "      <td>PE</td>\n",
       "      <td>CABO DE SANTO AGOSTINHO</td>\n",
       "      <td>NaN</td>\n",
       "      <td>27</td>\n",
       "      <td>CASA DE SAUDE SANTA HELENA</td>\n",
       "      <td>CASA DE SAUDE E MATERNIDADE SANTA HELENA LTDA</td>\n",
       "      <td>M</td>\n",
       "      <td>5</td>\n",
       "      <td>...</td>\n",
       "      <td>0</td>\n",
       "      <td>0</td>\n",
       "      <td>0</td>\n",
       "      <td>0</td>\n",
       "      <td>0</td>\n",
       "      <td>0</td>\n",
       "      <td>0</td>\n",
       "      <td>0</td>\n",
       "      <td>0</td>\n",
       "      <td>0</td>\n",
       "    </tr>\n",
       "    <tr>\n",
       "      <th>1</th>\n",
       "      <td>201902</td>\n",
       "      <td>NORDESTE</td>\n",
       "      <td>PE</td>\n",
       "      <td>CABO DE SANTO AGOSTINHO</td>\n",
       "      <td>NaN</td>\n",
       "      <td>27</td>\n",
       "      <td>CASA DE SAUDE SANTA HELENA</td>\n",
       "      <td>CASA DE SAUDE E MATERNIDADE SANTA HELENA LTDA</td>\n",
       "      <td>M</td>\n",
       "      <td>5</td>\n",
       "      <td>...</td>\n",
       "      <td>0</td>\n",
       "      <td>0</td>\n",
       "      <td>0</td>\n",
       "      <td>0</td>\n",
       "      <td>0</td>\n",
       "      <td>0</td>\n",
       "      <td>0</td>\n",
       "      <td>0</td>\n",
       "      <td>0</td>\n",
       "      <td>0</td>\n",
       "    </tr>\n",
       "    <tr>\n",
       "      <th>2</th>\n",
       "      <td>201903</td>\n",
       "      <td>NORDESTE</td>\n",
       "      <td>PE</td>\n",
       "      <td>CABO DE SANTO AGOSTINHO</td>\n",
       "      <td>NaN</td>\n",
       "      <td>27</td>\n",
       "      <td>CASA DE SAUDE SANTA HELENA</td>\n",
       "      <td>CASA DE SAUDE E MATERNIDADE SANTA HELENA LTDA</td>\n",
       "      <td>M</td>\n",
       "      <td>5</td>\n",
       "      <td>...</td>\n",
       "      <td>0</td>\n",
       "      <td>0</td>\n",
       "      <td>0</td>\n",
       "      <td>0</td>\n",
       "      <td>0</td>\n",
       "      <td>0</td>\n",
       "      <td>0</td>\n",
       "      <td>0</td>\n",
       "      <td>0</td>\n",
       "      <td>0</td>\n",
       "    </tr>\n",
       "    <tr>\n",
       "      <th>3</th>\n",
       "      <td>201904</td>\n",
       "      <td>NORDESTE</td>\n",
       "      <td>PE</td>\n",
       "      <td>CABO DE SANTO AGOSTINHO</td>\n",
       "      <td>NaN</td>\n",
       "      <td>27</td>\n",
       "      <td>CASA DE SAUDE SANTA HELENA</td>\n",
       "      <td>CASA DE SAUDE E MATERNIDADE SANTA HELENA LTDA</td>\n",
       "      <td>M</td>\n",
       "      <td>5</td>\n",
       "      <td>...</td>\n",
       "      <td>0</td>\n",
       "      <td>0</td>\n",
       "      <td>0</td>\n",
       "      <td>0</td>\n",
       "      <td>0</td>\n",
       "      <td>0</td>\n",
       "      <td>0</td>\n",
       "      <td>0</td>\n",
       "      <td>0</td>\n",
       "      <td>0</td>\n",
       "    </tr>\n",
       "    <tr>\n",
       "      <th>4</th>\n",
       "      <td>201905</td>\n",
       "      <td>NORDESTE</td>\n",
       "      <td>PE</td>\n",
       "      <td>CABO DE SANTO AGOSTINHO</td>\n",
       "      <td>NaN</td>\n",
       "      <td>27</td>\n",
       "      <td>CASA DE SAUDE SANTA HELENA</td>\n",
       "      <td>CASA DE SAUDE E MATERNIDADE SANTA HELENA LTDA</td>\n",
       "      <td>M</td>\n",
       "      <td>5</td>\n",
       "      <td>...</td>\n",
       "      <td>0</td>\n",
       "      <td>0</td>\n",
       "      <td>0</td>\n",
       "      <td>0</td>\n",
       "      <td>0</td>\n",
       "      <td>0</td>\n",
       "      <td>0</td>\n",
       "      <td>0</td>\n",
       "      <td>0</td>\n",
       "      <td>0</td>\n",
       "    </tr>\n",
       "  </tbody>\n",
       "</table>\n",
       "<p>5 rows × 34 columns</p>\n",
       "</div>"
      ],
      "text/plain": [
       "     COMP    REGIAO  UF                MUNICIPIO  MOTIVO DESABILITACAO  CNES  \\\n",
       "0  201901  NORDESTE  PE  CABO DE SANTO AGOSTINHO                   NaN    27   \n",
       "1  201902  NORDESTE  PE  CABO DE SANTO AGOSTINHO                   NaN    27   \n",
       "2  201903  NORDESTE  PE  CABO DE SANTO AGOSTINHO                   NaN    27   \n",
       "3  201904  NORDESTE  PE  CABO DE SANTO AGOSTINHO                   NaN    27   \n",
       "4  201905  NORDESTE  PE  CABO DE SANTO AGOSTINHO                   NaN    27   \n",
       "\n",
       "         NOME ESTABELECIMENTO                                   RAZAO SOCIAL  \\\n",
       "0  CASA DE SAUDE SANTA HELENA  CASA DE SAUDE E MATERNIDADE SANTA HELENA LTDA   \n",
       "1  CASA DE SAUDE SANTA HELENA  CASA DE SAUDE E MATERNIDADE SANTA HELENA LTDA   \n",
       "2  CASA DE SAUDE SANTA HELENA  CASA DE SAUDE E MATERNIDADE SANTA HELENA LTDA   \n",
       "3  CASA DE SAUDE SANTA HELENA  CASA DE SAUDE E MATERNIDADE SANTA HELENA LTDA   \n",
       "4  CASA DE SAUDE SANTA HELENA  CASA DE SAUDE E MATERNIDADE SANTA HELENA LTDA   \n",
       "\n",
       "  TP_GESTAO  CO_TIPO_UNIDADE  ... UTI ADULTO - EXIST  UTI ADULTO - SUS  \\\n",
       "0         M                5  ...                  0                 0   \n",
       "1         M                5  ...                  0                 0   \n",
       "2         M                5  ...                  0                 0   \n",
       "3         M                5  ...                  0                 0   \n",
       "4         M                5  ...                  0                 0   \n",
       "\n",
       "  UTI PEDIATRICO - EXIST UTI PEDIATRICO - SUS UTI NEONATAL - EXIST  \\\n",
       "0                      0                    0                    0   \n",
       "1                      0                    0                    0   \n",
       "2                      0                    0                    0   \n",
       "3                      0                    0                    0   \n",
       "4                      0                    0                    0   \n",
       "\n",
       "  UTI NEONATAL - SUS UTI QUEIMADO - EXIST  UTI QUEIMADO - SUS  \\\n",
       "0                  0                    0                   0   \n",
       "1                  0                    0                   0   \n",
       "2                  0                    0                   0   \n",
       "3                  0                    0                   0   \n",
       "4                  0                    0                   0   \n",
       "\n",
       "  UTI CORONARIANA - EXIST UTI CORONARIANA - SUS  \n",
       "0                       0                     0  \n",
       "1                       0                     0  \n",
       "2                       0                     0  \n",
       "3                       0                     0  \n",
       "4                       0                     0  \n",
       "\n",
       "[5 rows x 34 columns]"
      ]
     },
     "execution_count": 5,
     "metadata": {},
     "output_type": "execute_result"
    }
   ],
   "source": [
    "df.head()"
   ]
  },
  {
   "cell_type": "code",
   "execution_count": 7,
   "metadata": {},
   "outputs": [
    {
     "data": {
      "text/plain": [
       "Index(['COMP', 'REGIAO', 'UF', 'MUNICIPIO', 'MOTIVO DESABILITACAO', 'CNES',\n",
       "       'NOME ESTABELECIMENTO', 'RAZAO SOCIAL', 'TP_GESTAO', 'CO_TIPO_UNIDADE',\n",
       "       'DS_TIPO_UNIDADE', 'NATUREZA_JURIDICA', 'DESC_NATUREZA_JURIDICA',\n",
       "       'NO_LOGRADOURO', 'NU_ENDERECO', 'NO_COMPLEMENTO', 'NO_BAIRRO', 'CO_CEP',\n",
       "       'NU_TELEFONE', 'NO_EMAIL', 'LEITOS EXISTENTE', 'LEITOS SUS',\n",
       "       'UTI TOTAL - EXIST', 'UTI TOTAL - SUS', 'UTI ADULTO - EXIST',\n",
       "       'UTI ADULTO - SUS', 'UTI PEDIATRICO - EXIST', 'UTI PEDIATRICO - SUS',\n",
       "       'UTI NEONATAL - EXIST', 'UTI NEONATAL - SUS', 'UTI QUEIMADO - EXIST',\n",
       "       'UTI QUEIMADO - SUS', 'UTI CORONARIANA - EXIST',\n",
       "       'UTI CORONARIANA - SUS'],\n",
       "      dtype='object')"
      ]
     },
     "execution_count": 7,
     "metadata": {},
     "output_type": "execute_result"
    }
   ],
   "source": [
    "df.columns"
   ]
  },
  {
   "cell_type": "code",
   "execution_count": 12,
   "metadata": {},
   "outputs": [],
   "source": [
    "df['DESC_NATUREZA_JURIDICA'].unique()\n",
    "\n",
    "df['public'] = np.where(df['DESC_NATUREZA_JURIDICA'].str.contains('HOSPITAL_PUBLICO'), 1, 0)"
   ]
  },
  {
   "cell_type": "code",
   "execution_count": 16,
   "metadata": {},
   "outputs": [
    {
     "data": {
      "text/plain": [
       "<Axes: xlabel='COMP'>"
      ]
     },
     "execution_count": 16,
     "metadata": {},
     "output_type": "execute_result"
    },
    {
     "data": {
      "image/png": "[encoded data removed]",
      "text/plain": [
       "<Figure size 640x480 with 1 Axes>"
      ]
     },
     "metadata": {},
     "output_type": "display_data"
    }
   ],
   "source": [
    "# Plot the change in the number of beds over time by hospital type\n",
    "df.groupby(['COMP', 'public'])['LEITOS SUS'].sum().unstack().plot(kind='bar', stacked=True)"
   ]
  },
  {
   "cell_type": "code",
   "execution_count": 6,
   "metadata": {},
   "outputs": [
    {
     "name": "stderr",
     "output_type": "stream",
     "text": [
      "/var/folders/xd/gksdz50d7r3765bw8t_98y880000gn/T/ipykernel_57193/3083851471.py:1: InvalidColumnName: \n",
      "Not all pandas column names were valid Stata variable names.\n",
      "The following replacements have been made:\n",
      "\n",
      "    MOTIVO DESABILITACAO   ->   MOTIVO_DESABILITACAO\n",
      "    NOME ESTABELECIMENTO   ->   NOME_ESTABELECIMENTO\n",
      "    RAZAO SOCIAL   ->   RAZAO_SOCIAL\n",
      "    LEITOS EXISTENTE   ->   LEITOS_EXISTENTE\n",
      "    LEITOS SUS   ->   LEITOS_SUS\n",
      "    UTI TOTAL - EXIST   ->   UTI_TOTAL___EXIST\n",
      "    UTI TOTAL - SUS   ->   UTI_TOTAL___SUS\n",
      "    UTI ADULTO - EXIST   ->   UTI_ADULTO___EXIST\n",
      "    UTI ADULTO - SUS   ->   UTI_ADULTO___SUS\n",
      "    UTI PEDIATRICO - EXIST   ->   UTI_PEDIATRICO___EXIST\n",
      "    UTI PEDIATRICO - SUS   ->   UTI_PEDIATRICO___SUS\n",
      "    UTI NEONATAL - EXIST   ->   UTI_NEONATAL___EXIST\n",
      "    UTI NEONATAL - SUS   ->   UTI_NEONATAL___SUS\n",
      "    UTI QUEIMADO - EXIST   ->   UTI_QUEIMADO___EXIST\n",
      "    UTI QUEIMADO - SUS   ->   UTI_QUEIMADO___SUS\n",
      "    UTI CORONARIANA - EXIST   ->   UTI_CORONARIANA___EXIST\n",
      "    UTI CORONARIANA - SUS   ->   UTI_CORONARIANA___SUS\n",
      "\n",
      "If this is not what you expect, please make sure you have Stata-compliant\n",
      "column names in your DataFrame (strings only, max 32 characters, only\n",
      "alphanumerics and underscores, no Stata reserved words)\n",
      "\n",
      "  df.to_stata('leitos_sus.dta', write_index=False)\n"
     ]
    }
   ],
   "source": [
    "df.to_stata('leitos_sus.dta', write_index=False)\n"
   ]
  }
 ],
 "metadata": {
  "kernelspec": {
   "display_name": "Python 3",
   "language": "python",
   "name": "python3"
  },
  "language_info": {
   "codemirror_mode": {
    "name": "ipython",
    "version": 3
   },
   "file_extension": ".py",
   "mimetype": "text/x-python",
   "name": "python",
   "nbconvert_exporter": "python",
   "pygments_lexer": "ipython3",
   "version": "3.9.6"
  }
 },
 "nbformat": 4,
 "nbformat_minor": 2
}
